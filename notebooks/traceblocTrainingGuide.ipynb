{
 "cells": [
  {
   "cell_type": "markdown",
   "id": "public-perception",
   "metadata": {},
   "source": [
    "## Guide to train machine learning models on Tracebloc"
   ]
  },
  {
   "cell_type": "markdown",
   "id": "fe54c7a7",
   "metadata": {},
   "source": [
    "In this guide, you will learn how to train your ML models on a use case:\n",
    "\n",
    "* connect to tracebloc\n",
    "* connect to use case\n",
    "* upload model & weights\n",
    "* set training plan\n",
    "* start training\n",
    "\n",
    "Make sure you have read the [documentation](https://docs.tracebloc.io/join-use-case/) and that your environment is set up correctly.\n"
   ]
  },
  {
   "cell_type": "markdown",
   "id": "a141f90f",
   "metadata": {},
   "source": [
    "### 1. Connect to the tracebloc Client\n",
    "Ensure the tracebloc package is properly installed, then import the User object."
   ]
  },
  {
   "cell_type": "code",
   "execution_count": 1,
   "id": "numeric-constant",
   "metadata": {},
   "outputs": [],
   "source": [
    "from tracebloc_package import User # package used for authentification, model upload, custom training plan, and more"
   ]
  },
  {
   "cell_type": "markdown",
   "id": "2efab8f7-d318-4b7c-90c3-a8d8ae04c69d",
   "metadata": {},
   "source": [
    "Enter your tracebloc credentials when prompted"
   ]
  },
  {
   "cell_type": "code",
   "execution_count": 2,
   "id": "d31c8fff",
   "metadata": {},
   "outputs": [],
   "source": [
    "user = User() # run cell. You will be asked to enter your tracebloc email and password to login"
   ]
  },
  {
   "cell_type": "markdown",
   "id": "brilliant-access",
   "metadata": {},
   "source": [
    "### 2. Upload Model & Weights File"
   ]
  },
  {
   "cell_type": "markdown",
   "id": "4c9994f2",
   "metadata": {},
   "source": [
    "* check out the [**model structure requirements**](https://docs.tracebloc.io/customize-models) \n",
    "* you will find default models in the [**tracebloc model zoo**](https://gitlab.com/tracebloc/datascientist/-/tree/master/model_zoo)\n",
    "* follow the **file name convention**: If model file name is \"mymodel.py\", model weight file name should be \"mymodel_weights.pkl\""
   ]
  },
  {
   "cell_type": "code",
   "execution_count": 3,
   "id": "meaning-professional",
   "metadata": {
    "scrolled": true
   },
   "outputs": [],
   "source": [
    "user.uploadModel(\"../../model-zoo/model_zoo/<task>/<framework>/model.py\")
   ]
  },
  {
   "cell_type": "markdown",
   "id": "d7c16a36",
   "metadata": {},
   "source": [
    "### 3. Link uploaded Model with Dataset"
   ]
  },
  {
   "cell_type": "markdown",
   "id": "5cfc0dec",
   "metadata": {},
   "source": [
    "Navigate to the use case and copy the \"Training Dataset ID\" at the center of the use case pane."
   ]
  },
  {
   "cell_type": "code",
   "execution_count": 4,
   "id": "03c08e31",
   "metadata": {},
   "outputs": [],
   "source": [
    "trainingObject = user.linkModelDataset('Dataset ID') # link dataset to uploaded model in previous step"
   ]
  },
  {
   "cell_type": "markdown",
   "id": "21772887",
   "metadata": {},
   "source": [
    "This step links the above model with the provided dataset. The model should be [compatible](https://docs.tracebloc.io/) with the dataset."
   ]
  },
  {
   "cell_type": "markdown",
   "id": "be2ac917",
   "metadata": {},
   "source": [
    "### 4. Set Training Plan"
   ]
  },
  {
   "cell_type": "markdown",
   "id": "1f102be2",
   "metadata": {},
   "source": [
    "Configure your training parameters. First define an experiment name, then use\n",
    "- `trainingObject.parameter_name(value)` to set a new parameter value for example to set epochs, run `trainingObject.epochs(10)`\n",
    "- `trainingObject.resetTrainingPlan()` to reset your traning plan\n",
    "- `trainingObject.getTrainingPlan()` to check your training plan\n"
   ]
  },
  {
   "cell_type": "code",
   "execution_count": 16,
   "id": "31aa04fd-7040-4b7c-823d-3574caa516cd",
   "metadata": {},
   "outputs": [
    {
     "name": "stdout",
     "output_type": "stream",
     "text": [
      " \u001b[1mTraining Description\u001b[0m\n",
      "\n",
      " experimentName: My Experiment\n",
      " modelName: lenet\n",
      " objective: \n",
      " \n",
      " \u001b[1mDataset Parameters\u001b[0m\n",
      "\n",
      " datasetId: dxvssxwk\n",
      " totalDatasetSize: 1318\n",
      " allClasses: {'BENIGN': 681, 'MALIGNANT': 637}\n",
      "\n",
      " trainingDatasetSize: 1318\n",
      " trainingClasses: {'BENIGN': 681, 'MALIGNANT': 637}\n",
      " image_size: 224\n",
      " imageType: rgb\n",
      " seed: False\n",
      " \n",
      " \u001b[1mTraining Parameters\u001b[0m\n",
      "\n",
      " epochs: 10\n",
      " cycles: 1\n",
      " batchSize: 16\n",
      " validation_split: 0.1\n",
      " \n",
      " \u001b[1mHyperparameters\u001b[0m\n",
      "\n",
      " optimizer: sgd\n",
      " lossFunction: {'type': 'standard', 'value': 'mse'}\n",
      " learningRate: {'type': 'constant', 'value': 0.001}\n",
      " layersFreeze: \n",
      " earlystopCallback: {}\n",
      " reducelrCallback: {}\n",
      " modelCheckpointCallback: {}\n",
      " terminateOnNaNCallback: {}\n",
      " \n",
      " \u001b[1mAugmentation Parameters\u001b[0m\n",
      "\n",
      " brightness_range: None\n",
      " channel_shift_range: 0.0\n",
      " cval: 0.0\n",
      " fill_mode: constant\n",
      " height_shift_range: 0.0\n",
      " horizontal_flip: False\n",
      " rescale: None\n",
      " rotation_range: 0\n",
      " samplewise_center: False\n",
      " samplewise_std_normalization: False\n",
      " shear_range: 0.0\n",
      " shuffle: True\n",
      " vertical_flip: False\n",
      " width_shift_range: 0.0\n",
      " zoom_range: 0.0\n",
      " feature_interaction: {}\n",
      " \n",
      " \u001b[1mLLM Parameters\u001b[0m\n",
      "\n",
      " model_id: None\n",
      " lora_enable: False\n",
      " lora_r: 256\n",
      " lora_alpha: 512\n",
      " lora_dropout: 0.05\n",
      " q_lora: False\n",
      "\n"
     ]
    }
   ],
   "source": [
    "# Set experiment name\n",
    "trainingObject.experimentName(\"My Experiment\")\n",
    "\n",
    "# Set training parameters\n",
    "trainingObject.epochs(10)\n",
    "\n",
    "# Get training plan\n",
    "trainingObject.getTrainingPlan()\n"
   ]
  },
  {
   "cell_type": "markdown",
   "id": "435d919c",
   "metadata": {},
   "source": [
    "### 5. Start Training"
   ]
  },
  {
   "cell_type": "code",
   "execution_count": 17,
   "id": "3df4bf40",
   "metadata": {
    "scrolled": true
   },
   "outputs": [],
   "source": [
    "trainingObject.start() # start the experiment as configured above"
   ]
  },
  {
   "cell_type": "markdown",
   "id": "b67859de",
   "metadata": {},
   "source": [
    "### Logout"
   ]
  },
  {
   "cell_type": "code",
   "execution_count": null,
   "id": "c81f6d7d",
   "metadata": {},
   "outputs": [],
   "source": [
    "user.logout()"
   ]
  }
 ],
 "metadata": {
  "kernelspec": {
   "display_name": "Python 3 (ipykernel)",
   "language": "python",
   "name": "python3"
  },
  "language_info": {
   "codemirror_mode": {
    "name": "ipython",
    "version": 3
   },
   "file_extension": ".py",
   "mimetype": "text/x-python",
   "name": "python",
   "nbconvert_exporter": "python",
   "version": "3.9.23"
  }
 },
 "nbformat": 4,
 "nbformat_minor": 5
}
