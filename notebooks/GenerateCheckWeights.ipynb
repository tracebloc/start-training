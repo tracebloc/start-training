{
 "cells": [
  {
   "cell_type": "markdown",
   "id": "81eecdd6",
   "metadata": {},
   "source": [
    "### Generate Weights"
   ]
  },
  {
   "cell_type": "code",
   "execution_count": 1,
   "id": "10056885",
   "metadata": {},
   "outputs": [],
   "source": [
    "from tracebloc_package import ModelWeights"
   ]
  },
  {
   "cell_type": "code",
   "execution_count": 2,
   "id": "6bcc8615",
   "metadata": {},
   "outputs": [
    {
     "name": "stdout",
     "output_type": "stream",
     "text": [
      "Enter Model Name : CNN\n"
     ]
    }
   ],
   "source": [
    "weights = ModelWeights() # load module and Enter model file name"
   ]
  },
  {
   "cell_type": "code",
   "execution_count": 3,
   "id": "97c9f85a",
   "metadata": {},
   "outputs": [
    {
     "name": "stdout",
     "output_type": "stream",
     "text": [
      "Metal device set to: Apple M1\n"
     ]
    },
    {
     "name": "stderr",
     "output_type": "stream",
     "text": [
      "2022-06-16 16:02:01.507828: I tensorflow/core/common_runtime/pluggable_device/pluggable_device_factory.cc:305] Could not identify NUMA node of platform GPU ID 0, defaulting to 0. Your kernel may not have been built with NUMA support.\n",
      "2022-06-16 16:02:01.508042: I tensorflow/core/common_runtime/pluggable_device/pluggable_device_factory.cc:271] Created TensorFlow device (/job:localhost/replica:0/task:0/device:GPU:0 with 0 MB memory) -> physical PluggableDevice (device: 0, name: METAL, pci bus id: <undefined>)\n"
     ]
    },
    {
     "name": "stdout",
     "output_type": "stream",
     "text": [
      "Model input shape:  224\n",
      "Model output shape:  3\n",
      "Dumped new weights for CNN model\n"
     ]
    }
   ],
   "source": [
    "weights.generateweights() # generate weights"
   ]
  },
  {
   "cell_type": "code",
   "execution_count": 4,
   "id": "ee7cd1f1",
   "metadata": {},
   "outputs": [
    {
     "name": "stdout",
     "output_type": "stream",
     "text": [
      "Model: \"model\"\n",
      "_________________________________________________________________\n",
      " Layer (type)                Output Shape              Param #   \n",
      "=================================================================\n",
      " input_1 (InputLayer)        [(None, 224, 224, 3)]     0         \n",
      "                                                                 \n",
      " zero_padding2d (ZeroPadding  (None, 230, 230, 3)      0         \n",
      " 2D)                                                             \n",
      "                                                                 \n",
      " conv2d (Conv2D)             (None, 112, 112, 64)      9472      \n",
      "                                                                 \n",
      " batch_normalization (BatchN  (None, 112, 112, 64)     256       \n",
      " ormalization)                                                   \n",
      "                                                                 \n",
      " activation (Activation)     (None, 112, 112, 64)      0         \n",
      "                                                                 \n",
      " max_pooling2d (MaxPooling2D  (None, 55, 55, 64)       0         \n",
      " )                                                               \n",
      "                                                                 \n",
      " flatten (Flatten)           (None, 193600)            0         \n",
      "                                                                 \n",
      " dense (Dense)               (None, 3)                 580803    \n",
      "                                                                 \n",
      "=================================================================\n",
      "Total params: 590,531\n",
      "Trainable params: 590,403\n",
      "Non-trainable params: 128\n",
      "_________________________________________________________________\n"
     ]
    }
   ],
   "source": [
    "weights.checkweights() # check if weights file are properly generated"
   ]
  },
  {
   "cell_type": "code",
   "execution_count": null,
   "id": "2eb7a796",
   "metadata": {},
   "outputs": [],
   "source": []
  }
 ],
 "metadata": {
  "kernelspec": {
   "display_name": "Python 3 (ipykernel)",
   "language": "python",
   "name": "python3"
  },
  "language_info": {
   "codemirror_mode": {
    "name": "ipython",
    "version": 3
   },
   "file_extension": ".py",
   "mimetype": "text/x-python",
   "name": "python",
   "nbconvert_exporter": "python",
   "pygments_lexer": "ipython3",
   "version": "3.9.12"
  }
 },
 "nbformat": 4,
 "nbformat_minor": 5
}
