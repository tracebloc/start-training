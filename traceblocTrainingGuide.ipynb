{
 "cells": [
  {
   "cell_type": "markdown",
   "id": "public-perception",
   "metadata": {},
   "source": [
    "## Guide to train machine learning models on Tracebloc"
   ]
  },
  {
   "cell_type": "markdown",
   "id": "fe54c7a7",
   "metadata": {},
   "source": [
    "In this five step guide, you will learn how to train your ML models on Tracebloc's privacy-preserving ML infrastructure.\n",
    "\n",
    "With that \n",
    "\n",
    "*   you get access large data sets.\n",
    "*   collaborate with peers to build high-performance models.\n",
    "*   participate in enterprise competitions."
   ]
  },
  {
   "cell_type": "markdown",
   "id": "a141f90f",
   "metadata": {},
   "source": [
    "### 1. Connect to Tracebloc"
   ]
  },
  {
   "cell_type": "code",
   "execution_count": null,
   "id": "numeric-constant",
   "metadata": {
    "scrolled": true
   },
   "outputs": [],
   "source": [
    "from tracebloc_package import User # package used for authentification, model upload, custom training plan, and more"
   ]
  },
  {
   "cell_type": "code",
   "execution_count": null,
   "id": "d31c8fff",
   "metadata": {
    "scrolled": true
   },
   "outputs": [],
   "source": [
    "user = User() # run cell. You will be asked to enter your email and password to login"
   ]
  },
  {
   "cell_type": "markdown",
   "id": "brilliant-access",
   "metadata": {},
   "source": [
    "### 2. Upload Model & Weights File"
   ]
  },
  {
   "cell_type": "markdown",
   "id": "4c9994f2",
   "metadata": {},
   "source": [
    "* Check out the [**model structure requirements**](https://docs.tracebloc.io/model-structure) \n",
    "* You will find models to test tracebloc in the [**tracebloc model zoo**](https://gitlab.com/tracebloc/datascientist/-/tree/master/model_zoo)\n",
    "* Not sure how to upload models and weight to Colab? [**upload**](https://docs.tracebloc.io/)\n",
    "* Please follow the **file name convention**: if model file name is \"model.py\" -> model weight file name should be \"model_weights.pkl\"."
   ]
  },
  {
   "cell_type": "code",
   "execution_count": null,
   "id": "meaning-professional",
   "metadata": {
    "scrolled": true
   },
   "outputs": [],
   "source": [
    "user.uploadModel('filename') # (model, weights=True)"
   ]
  },
  {
   "cell_type": "markdown",
   "id": "d7c16a36",
   "metadata": {},
   "source": [
    "### 3. Link uploaded Model with Dataset"
   ]
  },
  {
   "cell_type": "markdown",
   "id": "21772887",
   "metadata": {},
   "source": [
    "This step links the above model with the provided dataset. The model should be [compatible](https://docs.tracebloc.io/) with the dataset."
   ]
  },
  {
   "cell_type": "code",
   "execution_count": null,
   "id": "03c08e31",
   "metadata": {},
   "outputs": [],
   "source": [
    "trainingObject = user.linkModelDataset('datasetID') # link dataset to uploaded model in previous step"
   ]
  },
  {
   "cell_type": "markdown",
   "id": "be2ac917",
   "metadata": {},
   "source": [
    "### 4. Set Training Plan"
   ]
  },
  {
   "cell_type": "markdown",
   "id": "1f102be2",
   "metadata": {},
   "source": [
    "Configurate your training parameter with:\n",
    "\n",
    "> `trainingObject.parameter_name(value)`\n",
    "\n",
    "Check your training plan with:\n",
    "\n",
    "> `trainingObject.getTrainingPlan()`\n",
    "\n",
    "Reset your training plan with:\n",
    "\n",
    "> `trainingObject.resetTrainingPlan()`\n",
    "\n",
    "The values are as per tensorflow [standard parameters](https://www.tensorflow.org/api_docs/python/tf/keras/Model#fit) value.\n"
   ]
  },
  {
   "cell_type": "code",
   "execution_count": 7,
   "id": "dc9c09e8",
   "metadata": {
    "scrolled": false
   },
   "outputs": [
    {
     "name": "stdout",
     "output_type": "stream",
     "text": [
      " \u001b[1mTraining Description\u001b[0m\n",
      "\n",
      " experimentName: Give your experiment a name for easy colaboration with your peers! :)\n",
      " modelName: CNN\n",
      " objective: \n",
      " \n",
      " \u001b[1mDataset Parameters\u001b[0m\n",
      "\n",
      " datasetId: DIOAXGuH\n",
      " totalDatasetSize: 4000\n",
      " allClasses: {'MALIGNANT': 2685, 'BENIGN': 1315}\n",
      "\n",
      " trainingDatasetSize: 4000\n",
      " trainingClasses: {'MALIGNANT': 2685, 'BENIGN': 1315}\n",
      " imageShape: 224\n",
      " imageType: rgb\n",
      " seed: False\n",
      " \n",
      " \u001b[1mTraining Parameters\u001b[0m\n",
      "\n",
      " epochs: 10\n",
      " cycles: 1\n",
      " batchSize: 64\n",
      " validation_split: 0.0\n",
      " \n",
      " \u001b[1mHyperparameters\u001b[0m\n",
      "\n",
      " optimizer: sgd\n",
      " lossFunction: {'type': 'standard', 'value': 'mse'}\n",
      " learningRate: {'type': 'constant', 'value': 0.001}\n",
      " layersFreeze: \n",
      " earlystopCallback: {}\n",
      " reducelrCallback: {}\n",
      " modelCheckpointCallback: {}\n",
      " terminateOnNaNCallback: {}\n",
      " \n",
      " \u001b[1mAugmentation Parameters\u001b[0m\n",
      "\n",
      " brightness_range: None\n",
      " channel_shift_range: 0.0\n",
      " cval: 0.0\n",
      " fill_mode: nearest\n",
      " height_shift_range: 0.0\n",
      " horizontal_flip: False\n",
      " rescale: None\n",
      " rotation_range: 0\n",
      " samplewise_center: False\n",
      " samplewise_std_normalization: False\n",
      " shear_range: 0.0\n",
      " shuffle: True\n",
      " vertical_flip: False\n",
      " width_shift_range: 0.0\n",
      " zoom_range: 0.0\n",
      "\n"
     ]
    }
   ],
   "source": [
    "trainingObject.experimentName(\"Give your experiment a name for easy colaboration with your peers! :)\") # name is a mandatory field\n",
    "trainingObject.getTrainingPlan()"
   ]
  },
  {
   "cell_type": "markdown",
   "id": "435d919c",
   "metadata": {},
   "source": [
    "### 5. Start Training"
   ]
  },
  {
   "cell_type": "code",
   "execution_count": null,
   "id": "3df4bf40",
   "metadata": {
    "scrolled": true
   },
   "outputs": [],
   "source": [
    "trainingObject.start() # start the experiment as configured above"
   ]
  },
  {
   "cell_type": "markdown",
   "id": "b67859de",
   "metadata": {},
   "source": [
    "### Logout"
   ]
  },
  {
   "cell_type": "code",
   "execution_count": null,
   "id": "c81f6d7d",
   "metadata": {},
   "outputs": [],
   "source": [
    "user.logout()"
   ]
  }
 ],
 "metadata": {
  "kernelspec": {
   "display_name": "Python 3",
   "language": "python",
   "name": "python3"
  },
  "language_info": {
   "codemirror_mode": {
    "name": "ipython",
    "version": 3
   },
   "file_extension": ".py",
   "mimetype": "text/x-python",
   "name": "python",
   "nbconvert_exporter": "python",
   "pygments_lexer": "ipython3",
   "version": "3.9.16"
  }
 },
 "nbformat": 4,
 "nbformat_minor": 5
}
